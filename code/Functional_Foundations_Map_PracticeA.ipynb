{
 "cells": [
  {
   "cell_type": "markdown",
   "id": "31a09141",
   "metadata": {},
   "source": [
    "## I'm So Odd\n",
    "\n",
    "Let's use `map` to determine which of the elements in a list of numbers is odd. The input will be a list of whole numbers (e.g.,\n",
    "\n",
    "```\n",
    "[5, 3, 8, 10]\n",
    "```\n",
    "\n",
    ") and the output will be a list of Boolean values depending on whether the value in that position in the input list was odd or even (e.g., \n",
    "\n",
    "```\n",
    "[false, false, true, true]\n",
    "```\n",
    "\n",
    ").\n",
    "\n",
    "Before looking at the answer, try doing it yourself in the cell below."
   ]
  },
  {
   "cell_type": "code",
   "execution_count": null,
   "id": "304d1735",
   "metadata": {},
   "outputs": [],
   "source": [
    "a = [5,3,8,10]\n",
    "\n",
    "# Put your code here to build the list b according to the specifications!\n",
    "# Don't forget to use list to make sure that Python doesn't act lazy!\n",
    "b = list(map(lambda x: x % 2 == 0, a))\n",
    "\n",
    "if [False, False, True, True] == b:\n",
    "    print(\"Great work! Try some other test cases!\")\n",
    "\n"
   ]
  },
  {
   "cell_type": "markdown",
   "id": "bccd09b5",
   "metadata": {},
   "source": [
    "## AM/PM\n",
    "\n",
    "Let's try to use map to rewrite times given in 24hr format to AM/PM format. The input will be a list of (valid!) times in 24hr format (e.g., \n",
    "\n",
    "```\n",
    "[\"13:01\", \"8:30\", \"21:08\"]\n",
    "```\n",
    "\n",
    ") and the output will be the equivalent time in AM/PM (e.g.,\n",
    "\n",
    "```\n",
    "[\"1:01pm\", \"8:30am\", \"9:08pm\"]\n",
    "```\n",
    ")."
   ]
  },
  {
   "cell_type": "code",
   "execution_count": 24,
   "id": "b99216b6",
   "metadata": {},
   "outputs": [],
   "source": [
    "\n",
    "# I'll get you started.\n",
    "def convert_time(given: str) -> str:\n",
    "    [hours, minutes] = given.split(':', 2)\n",
    "    hours = int(hours)\n",
    "    minutes = int(minutes)\n",
    "\n",
    "    # Now you're on your own.\n",
    "\n",
    "\n",
    "a = [\"13:01\", \"8:30\", \"21:08\"]\n",
    "\n",
    "b = None\n",
    "\n",
    "if b == ['1:01pm', '8:30am', '9:08pm']:\n",
    "    print(\"Nicely done!!\")"
   ]
  }
 ],
 "metadata": {
  "kernelspec": {
   "display_name": "env",
   "language": "python",
   "name": "python3"
  },
  "language_info": {
   "codemirror_mode": {
    "name": "ipython",
    "version": 3
   },
   "file_extension": ".py",
   "mimetype": "text/x-python",
   "name": "python",
   "nbconvert_exporter": "python",
   "pygments_lexer": "ipython3",
   "version": "3.11.9"
  }
 },
 "nbformat": 4,
 "nbformat_minor": 5
}
