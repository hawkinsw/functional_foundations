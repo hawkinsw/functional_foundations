{
  "cells": [
    {
      "cell_type": "markdown",
      "metadata": {
        "id": "b829e7FVf4Pa"
      },
      "source": [
        "### Idrisi Elba\n",
        "\n",
        "We have had plenty of experience in class during our Functional Foundations on utilizing a high-order function like `map` in order to escape the doldrums of loops.\n",
        "\n",
        "In this Notebook, let's see whether we can translate what we learned into real code.\n",
        "\n",
        "To do that, we will attempt to solve a problem that is particularly well suited to the `map` high-order function.\n",
        "\n",
        "In case you are interested in having some notes by your side while we work through this example, feel free to open up the [Functional Foundations](https://github.com/hawkinsw/functional_foundations/blob/main/map_intro.md) or the [Python documentation](https://docs.python.org/3/library/functions.html#map).\n",
        "\n",
        "> Note: To use this notebook effectively, execute each of the cells in order from top to bottom. Certain cells will require you to write code. Make sure that you rerun cells when you make changes to the code so that the newest version executes!"
      ]
    },
    {
      "cell_type": "code",
      "execution_count": 105,
      "metadata": {
        "id": "P6AP8r2rf1O5"
      },
      "outputs": [],
      "source": [
        "# DO NOT CHANGE ANYTHING IN THIS CELL\n",
        "\n",
        "map_calls = 0\n",
        "def reset_map_calls():\n",
        "  global map_calls\n",
        "  map_calls = 0\n",
        "\n",
        "def get_map_calls():\n",
        "  global map_calls\n",
        "  return map_calls\n",
        "\n",
        "def map(func, list):\n",
        "  global map_calls\n",
        "  map_calls = map_calls + 1\n",
        "  result = []\n",
        "  for i in list:\n",
        "    result.append(func(i))\n",
        "  return result"
      ]
    },
    {
      "cell_type": "markdown",
      "metadata": {
        "id": "bk9qNaAdhN2q"
      },
      "source": [
        "### Be Generous With the Waitstaff\n",
        "\n",
        "One of the most annoying things about going out to eat with a group of friends is making sure that each of us puts in the proper amount of tip when the check isn't split!\n",
        "\n",
        "Without a proper accounting, it would be easy for a person who ordered an inexpensive meal to tip as much as a person who ordered an expensive meal. Of course, we want to make sure that we properly tip the people that are serving us, so we will need some code."
      ]
    },
    {
      "cell_type": "markdown",
      "metadata": {
        "id": "zJy2QIIUhtus"
      },
      "source": [
        "#### Calculate the Tip For One Meal\n",
        "\n",
        "First things first, let's make sure that we can calculate the tip for a single meal. For our first attempt at the code, we will assume that we want to tip the waitstaff 25%.\n",
        "\n",
        "Your job is to write a function that takes a single parameter (the price of the meal) and returns the value of the meal with the tip included (do _not_ include the taxes!).\n",
        "\n",
        "You will name your function `calculate_total`."
      ]
    },
    {
      "cell_type": "code",
      "execution_count": 118,
      "metadata": {
        "id": "WscINm45iMx4"
      },
      "outputs": [],
      "source": [
        "def calculate_total(meal_price):\n",
        "  pass"
      ]
    },
    {
      "cell_type": "markdown",
      "metadata": {
        "id": "hifDhPqZiSu1"
      },
      "source": [
        "###### Check your work"
      ]
    },
    {
      "cell_type": "code",
      "execution_count": 119,
      "metadata": {
        "colab": {
          "base_uri": "https://localhost:8080/"
        },
        "id": "5t1M1aAqiTMe",
        "outputId": "0ceab328-b0b1-4e6c-c5c3-7a22daf9b5ce"
      },
      "outputs": [
        {
          "name": "stdout",
          "output_type": "stream",
          "text": [
            "Your calculations of the total price for a $30 meal and a 25% tip were not quite right.\n"
          ]
        }
      ],
      "source": [
        "# Run this cell and make sure that you see \"Success\" before continuing.\n",
        "\n",
        "## DO NOT CHANGE ANYTHING IN THIS CELL\n",
        "def test_calculate_total():\n",
        "  meal_price = 30.0\n",
        "  expected_total = 30 * 1.25\n",
        "  actual_total = calculate_total(meal_price)\n",
        "  if actual_total != expected_total:\n",
        "    return \"Your calculations of the total price for a $30 meal and a 25% tip were not quite right.\"\n",
        "  meal_price = 17.24\n",
        "  expected_total = 17.24 * 1.25\n",
        "  actual_total = calculate_total(meal_price)\n",
        "  if actual_total != expected_total:\n",
        "    return \"Your calculations of the total price for a $17.24 meal and a 25% tip were not quite right.\"\n",
        "  return \"Success!\"\n",
        "\n",
        "print(test_calculate_total())"
      ]
    },
    {
      "cell_type": "markdown",
      "metadata": {
        "id": "Dy28KOU8kDC_"
      },
      "source": [
        "#### Calculate the Tip For All The Meals\n",
        "\n",
        "Now that you have a function that can calculate the tip for a single meal, let's see whether you can use `map` to calculate the tip for all the meals at a table. Use `map` to complete the `calculate_all_totals` function below. You may assume that `calculate_all_totals` accepts a single argument that is a list of the prices of your friends' meals."
      ]
    },
    {
      "cell_type": "code",
      "execution_count": 120,
      "metadata": {
        "id": "0MKjEewhkCY5"
      },
      "outputs": [],
      "source": [
        "def calculate_all_totals(all_meal_prices):\n",
        "  pass"
      ]
    },
    {
      "cell_type": "markdown",
      "metadata": {
        "id": "Fa3ZVCwc6Rb9"
      },
      "source": [
        "###### Check your work"
      ]
    },
    {
      "cell_type": "code",
      "execution_count": 121,
      "metadata": {
        "colab": {
          "base_uri": "https://localhost:8080/"
        },
        "id": "40WXeBnYknHz",
        "outputId": "b1d4e30d-5fb1-4f10-adea-a97ef1dc6de4"
      },
      "outputs": [
        {
          "name": "stdout",
          "output_type": "stream",
          "text": [
            "Your calculations of the total bill for a table with two meals of $30 and $17.24 subject to a 25% tip did not seem to use the map function.\n"
          ]
        }
      ],
      "source": [
        "# Run this cell and make sure that you see \"Success\" before continuing.\n",
        "\n",
        "## DO NOT CHANGE ANYTHING IN THIS CELL\n",
        "from functools import reduce\n",
        "def deep_equal(a, b):\n",
        "  if len(a) != len(b):\n",
        "    return False\n",
        "  return reduce(lambda o, n: o and n, map(lambda lr: lr[0] == lr[1], zip(a, b)), True)\n",
        "\n",
        "def test_calculate_all_totals():\n",
        "  meal_prices = [30.0, 17.24]\n",
        "  reset_map_calls()\n",
        "  expected_totals = [30.0 * 1.25, 17.24 * 1.25]\n",
        "  actual_totals = calculate_all_totals(meal_prices)\n",
        "  if get_map_calls() != 1:\n",
        "    return \"Your calculations of the total bill for a table with two meals of $30 and $17.24 subject to a 25% tip did not seem to use the map function.\"\n",
        "  if not deep_equal(actual_totals,expected_totals):\n",
        "    return \"Your calculations of the total bill for a table with two meals of $30 and $17.24 subject to a 25% tip were not quite right.\"\n",
        "\n",
        "  meal_prices = [10.0, 31.28]\n",
        "  reset_map_calls()\n",
        "  expected_totals = [10.0 * 1.25, 31.28 * 1.25]\n",
        "  actual_totals = calculate_all_totals(meal_prices)\n",
        "\n",
        "  if get_map_calls() != 1:\n",
        "    return \"Your calculations of the total bill for a table with two meals of $10 and $31.28 subject to a 25% tip did not seem to use the map function.\"\n",
        "  if not deep_equal(actual_totals,expected_totals):\n",
        "    return \"Your calculations of the total bill for a table with two meals of $10 and $31.28 subject to a 25% tip were not quite right.\"\n",
        "\n",
        "  return \"Success!\"\n",
        "\n",
        "print(test_calculate_all_totals())"
      ]
    },
    {
      "cell_type": "markdown",
      "metadata": {
        "id": "d9pJjj2FuY9M"
      },
      "source": [
        "#### Take It Up A Notch\n",
        "\n",
        "Now we want to add some additional functionality! Let's say that we want to allow our users to customize the size of the tip for the people at their table. Of course, we don't want anyone to feel badly, so the tip can be customized but the amount will apply to everyone in our party! That means that we will need to rewrite our function `calculate_total` function in order to take a second parameter that specifies the tip percentage.\n",
        "\n",
        "To make it easier on ourselves, let's not change the definition of `calculate_total`. Rather, let's write another function. We'll call the better one we are about to write `calculate_total_with_tip`. It will take two parameters: The first parameter will be the tip percentage and the second one will be the price of the meal.\n",
        "\n",
        "Implement `calculate_total_with_tip`!"
      ]
    },
    {
      "cell_type": "code",
      "execution_count": 122,
      "metadata": {
        "id": "fOmIT-05vIGH"
      },
      "outputs": [],
      "source": [
        "def calculate_total_with_tip(tip_pct, meal_price):\n",
        "  pass"
      ]
    },
    {
      "cell_type": "markdown",
      "metadata": {
        "id": "nL3qxQDL6Upd"
      },
      "source": [
        "###### Check your work"
      ]
    },
    {
      "cell_type": "code",
      "execution_count": 123,
      "metadata": {
        "colab": {
          "base_uri": "https://localhost:8080/"
        },
        "id": "AElw-U7MvavJ",
        "outputId": "0650ab7e-ce05-4efb-d2d9-c44aff5119b8"
      },
      "outputs": [
        {
          "name": "stdout",
          "output_type": "stream",
          "text": [
            "Your calculations of the total price for a $30 meal and a 35% tip were not quite right.\n"
          ]
        }
      ],
      "source": [
        "def test_calculate_total_with_tip():\n",
        "  meal_price = 30.0\n",
        "  expected_total = 30 * 1.35\n",
        "  actual_total = calculate_total_with_tip(0.35, meal_price)\n",
        "  if actual_total != expected_total:\n",
        "    return \"Your calculations of the total price for a $30 meal and a 35% tip were not quite right.\"\n",
        "  meal_price = 17.24\n",
        "  expected_total = 17.24 * 1.15\n",
        "  actual_total = calculate_total_with_tip(0.15, meal_price)\n",
        "  if actual_total != expected_total:\n",
        "    return \"Your calculations of the total price for a $17.24 meal and a 15% tip were not quite right.\"\n",
        "  return \"Success!\"\n",
        "\n",
        "print(test_calculate_total_with_tip())"
      ]
    },
    {
      "cell_type": "markdown",
      "metadata": {
        "id": "glyaJ_c1wRt0"
      },
      "source": [
        "#### The Curry We Had Was Spicy\n",
        "\n",
        "Well, we would really like to be able to use our new, more powerful `calculate_total_with_tip` function with `map`. However, there's a problem -- `calculate_total_with_tip` accepts _two_ arguments but the function that we are supposed to give to `map` only accepts one argument!\n",
        "\n",
        "So, what is our solution? The solution is to curry! We can write a function that _curries_ the first argument to `calculate_total_with_tip` so that it only takes a single argument. Once we do that, we are able to use it with `map`.\n",
        "\n",
        "First things first, implement `curry_calculate_total_with_tip`: It will take a single argument (the tip percentage) and it will return _another_ function that accepts a single argument (the meal price) that will _always_ calculate the total price with the given tip percentage!"
      ]
    },
    {
      "cell_type": "code",
      "execution_count": 124,
      "metadata": {
        "id": "4Tsj6MZexQfZ"
      },
      "outputs": [],
      "source": [
        "def curry_calculate_total_with_tip(tip_pct):\n",
        "  pass"
      ]
    },
    {
      "cell_type": "markdown",
      "metadata": {
        "id": "iIQStRJW6ZJM"
      },
      "source": [
        "###### Check your work"
      ]
    },
    {
      "cell_type": "code",
      "execution_count": 125,
      "metadata": {
        "colab": {
          "base_uri": "https://localhost:8080/",
          "height": 315
        },
        "id": "gyrQCwMjxlEu",
        "outputId": "670dbb40-3cc3-4754-91ce-a7a5f5be68f1"
      },
      "outputs": [
        {
          "ename": "TypeError",
          "evalue": "'NoneType' object is not callable",
          "output_type": "error",
          "traceback": [
            "\u001b[0;31m---------------------------------------------------------------------------\u001b[0m",
            "\u001b[0;31mTypeError\u001b[0m                                 Traceback (most recent call last)",
            "\u001b[0;32m<ipython-input-125-23761f7d2318>\u001b[0m in \u001b[0;36m<cell line: 17>\u001b[0;34m()\u001b[0m\n\u001b[1;32m     15\u001b[0m   \u001b[0;32mreturn\u001b[0m \u001b[0;34m\"Success!\"\u001b[0m\u001b[0;34m\u001b[0m\u001b[0;34m\u001b[0m\u001b[0m\n\u001b[1;32m     16\u001b[0m \u001b[0;34m\u001b[0m\u001b[0m\n\u001b[0;32m---> 17\u001b[0;31m \u001b[0mprint\u001b[0m\u001b[0;34m(\u001b[0m\u001b[0mtest_curry_calculate_total_with_tip\u001b[0m\u001b[0;34m(\u001b[0m\u001b[0;34m)\u001b[0m\u001b[0;34m)\u001b[0m\u001b[0;34m\u001b[0m\u001b[0;34m\u001b[0m\u001b[0m\n\u001b[0m",
            "\u001b[0;32m<ipython-input-125-23761f7d2318>\u001b[0m in \u001b[0;36mtest_curry_calculate_total_with_tip\u001b[0;34m()\u001b[0m\n\u001b[1;32m      5\u001b[0m   \u001b[0mmeal_price\u001b[0m \u001b[0;34m=\u001b[0m \u001b[0;36m30.0\u001b[0m\u001b[0;34m\u001b[0m\u001b[0;34m\u001b[0m\u001b[0m\n\u001b[1;32m      6\u001b[0m   \u001b[0mexpected_total\u001b[0m \u001b[0;34m=\u001b[0m \u001b[0;36m30\u001b[0m \u001b[0;34m*\u001b[0m \u001b[0;36m1.35\u001b[0m\u001b[0;34m\u001b[0m\u001b[0;34m\u001b[0m\u001b[0m\n\u001b[0;32m----> 7\u001b[0;31m   \u001b[0mactual_total\u001b[0m \u001b[0;34m=\u001b[0m \u001b[0mcurry_calculate_total_with_tip\u001b[0m\u001b[0;34m(\u001b[0m\u001b[0;36m0.35\u001b[0m\u001b[0;34m)\u001b[0m\u001b[0;34m(\u001b[0m\u001b[0mmeal_price\u001b[0m\u001b[0;34m)\u001b[0m\u001b[0;34m\u001b[0m\u001b[0;34m\u001b[0m\u001b[0m\n\u001b[0m\u001b[1;32m      8\u001b[0m   \u001b[0;32mif\u001b[0m \u001b[0mactual_total\u001b[0m \u001b[0;34m!=\u001b[0m \u001b[0mexpected_total\u001b[0m\u001b[0;34m:\u001b[0m\u001b[0;34m\u001b[0m\u001b[0;34m\u001b[0m\u001b[0m\n\u001b[1;32m      9\u001b[0m     \u001b[0;32mreturn\u001b[0m \u001b[0;34m\"Your calculations of the total price for a $30 meal with a 35% tip (using the curried version of the function) were not quite right.\"\u001b[0m\u001b[0;34m\u001b[0m\u001b[0;34m\u001b[0m\u001b[0m\n",
            "\u001b[0;31mTypeError\u001b[0m: 'NoneType' object is not callable"
          ]
        }
      ],
      "source": [
        "# Run this cell and make sure that you see \"Success\" before continuing.\n",
        "\n",
        "## DO NOT CHANGE ANYTHING IN THIS CELL\n",
        "def test_curry_calculate_total_with_tip():\n",
        "  meal_price = 30.0\n",
        "  expected_total = 30 * 1.35\n",
        "  actual_total = curry_calculate_total_with_tip(0.35)(meal_price)\n",
        "  if actual_total != expected_total:\n",
        "    return \"Your calculations of the total price for a $30 meal with a 35% tip (using the curried version of the function) were not quite right.\"\n",
        "  meal_price = 17.24\n",
        "  expected_total = 17.24 * 1.15\n",
        "  actual_total = curry_calculate_total_with_tip(0.15)(meal_price)\n",
        "  if actual_total != expected_total:\n",
        "    return \"Your calculations of the total price for a $17.24 meal with a 15% tip (using the curried version of the function) were not quite right.\"\n",
        "  return \"Success!\"\n",
        "\n",
        "print(test_curry_calculate_total_with_tip())"
      ]
    },
    {
      "cell_type": "markdown",
      "metadata": {
        "id": "aNxAH55Tx1F5"
      },
      "source": [
        "#### Curry, Curry, Curry All The Way Home\n",
        "\n",
        "Now, one final function to write: Let's write another version of `calculate_all_totals` that will allow us to customize the tip percentage. Our basic `calculate_all_totals` accepted only a list of meal prices. This new, more powerful function will accept the tip percentage _and_ the list of meal prices.\n",
        "\n",
        "Let's name our new, expanded version `power_calculate_all_totals`. In implementing this function, be sure to use `map` and `curry_calculate_total_with_tip`!\n"
      ]
    },
    {
      "cell_type": "code",
      "execution_count": 127,
      "metadata": {
        "id": "SWWybC_ryfSQ"
      },
      "outputs": [],
      "source": [
        "def power_calculate_all_totals(tip_pct, meals):\n",
        "  pass"
      ]
    },
    {
      "cell_type": "markdown",
      "metadata": {
        "id": "l2uJ8yqo6bor"
      },
      "source": [
        "###### Check your work"
      ]
    },
    {
      "cell_type": "code",
      "execution_count": 128,
      "metadata": {
        "colab": {
          "base_uri": "https://localhost:8080/"
        },
        "id": "__JkrZnxytKo",
        "outputId": "5610abef-1468-4143-82b5-e68c3ffbd5d3"
      },
      "outputs": [
        {
          "name": "stdout",
          "output_type": "stream",
          "text": [
            "Your calculations of the total meal prices when tipping 32% on meals of $30, $17.24 and $16.22 did not seem to use the map function.\n"
          ]
        }
      ],
      "source": [
        "def test_power_calculate_all_totals():\n",
        "  meal_prices = [30.0, 17.24, 16.22]\n",
        "  reset_map_calls()\n",
        "  expected_totals = [30.0 * 1.32, 17.24 * 1.32, 16.22 * 1.32]\n",
        "  actual_totals = power_calculate_all_totals(.32, meal_prices)\n",
        "  if get_map_calls() != 1:\n",
        "    return \"Your calculations of the total meal prices when tipping 32% on meals of $30, $17.24 and $16.22 did not seem to use the map function.\"\n",
        "  if not deep_equal(actual_totals,expected_totals):\n",
        "    return \"Your calculations of the total meal prices when tipping 32% on meals of $30, $17.24 and $16.22  not quite right.\"\n",
        "\n",
        "  meal_prices = [10.0, 31.28]\n",
        "  reset_map_calls()\n",
        "  expected_totals = [10.0 * 1.28, 31.28 * 1.28]\n",
        "  actual_totals = power_calculate_all_totals(.28, meal_prices)\n",
        "\n",
        "\n",
        "  if get_map_calls() != 1:\n",
        "    return \"Your calculations of the total meal prices when tipping 28% on meals of $10 and $31.28 did not seem to use the map function.\"\n",
        "  if not deep_equal(actual_totals,expected_totals):\n",
        "    return \"Your calculations of the total meal prices when tipping 28% on meals of $10 and $31.28 were not quite right.\"\n",
        "\n",
        "  return \"Success!\"\n",
        "\n",
        "print(test_power_calculate_all_totals())"
      ]
    },
    {
      "cell_type": "markdown",
      "metadata": {
        "id": "cHG0-xd0zGHF"
      },
      "source": [
        "### Conclusion\n",
        "\n",
        "I must say, I am very impressed. You did a tremendous job! You now have had the experience of working with `map`, a very powerful high-order function and currying! You are very nearly an old hat at the most consequential of the building blocks of functional programming languages. Once we learn about `fold`, you will truly be a wizard!"
      ]
    }
  ],
  "metadata": {
    "colab": {
      "provenance": []
    },
    "kernelspec": {
      "display_name": "Python 3",
      "name": "python3"
    },
    "language_info": {
      "name": "python"
    }
  },
  "nbformat": 4,
  "nbformat_minor": 0
}
